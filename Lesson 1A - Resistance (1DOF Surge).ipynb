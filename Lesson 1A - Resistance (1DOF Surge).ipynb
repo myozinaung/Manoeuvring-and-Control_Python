{
 "cells": [
  {
   "cell_type": "markdown",
   "metadata": {},
   "source": [
    "# Lesson 1 - Resistance 1DOF Surge Motion"
   ]
  },
  {
   "cell_type": "markdown",
   "metadata": {},
   "source": [
    "## Equation of Motion"
   ]
  },
  {
   "cell_type": "code",
   "execution_count": 1,
   "metadata": {},
   "outputs": [],
   "source": [
    "# import required libraries\n",
    "import math as math\n",
    "import numpy as np\n",
    "import matplotlib.pyplot as plt\n",
    "import time"
   ]
  },
  {
   "cell_type": "code",
   "execution_count": 2,
   "metadata": {},
   "outputs": [],
   "source": [
    "# Constant Parameters\n",
    "Lpp   = 178\n",
    "B     = 32.26\n",
    "d     = 11.57\n",
    "Cb    = 0.84\n",
    "A_wet = 8750\n",
    "nu_w  = 1.1883e-6\n",
    "rho_w = 1025\n",
    "K     = 0.37\n",
    "\n",
    "mx_ND = 0.08\n",
    "m     = rho_w*Lpp*B*d*Cb\n",
    "mx    = mx_ND*m"
   ]
  },
  {
   "cell_type": "code",
   "execution_count": 3,
   "metadata": {},
   "outputs": [],
   "source": [
    "# Hull Reaction Forces (Resistance) Calculation\n",
    "def hull_force(x):\n",
    "    uvel = x[1]\n",
    "    U    = uvel\n",
    "    Re   = U*Lpp/nu_w\n",
    "    C_F0 = 0.463*(math.log10(Re))**(-2.6)\n",
    "    R    = C_F0 * (0.5*rho_w*A_wet*U**2)*(1+K)\n",
    "    tau_hull = -R\n",
    "    return tau_hull"
   ]
  },
  {
   "cell_type": "code",
   "execution_count": 4,
   "metadata": {},
   "outputs": [],
   "source": [
    "# Combine Forces and ODEs\n",
    "def state_fun(x):\n",
    "    u = x[1]\n",
    "    tau_hull = hull_force(x)\n",
    "    tau_surge = tau_hull\n",
    "    \n",
    "    xpos_dot = u\n",
    "    uvel_dot = tau_surge/(m+mx)\n",
    "    x_dot = np.array([xpos_dot, uvel_dot])\n",
    "    return x_dot"
   ]
  },
  {
   "cell_type": "code",
   "execution_count": 5,
   "metadata": {},
   "outputs": [],
   "source": [
    "def euler(x,dt):\n",
    "    state_next = x + dt*state_fun(x)\n",
    "    return state_next"
   ]
  },
  {
   "cell_type": "code",
   "execution_count": 6,
   "metadata": {},
   "outputs": [],
   "source": [
    "def RKGill(x,dt):\n",
    "    k1  = state_fun(x)\n",
    "    tmp = x + 0.5*dt*k1\n",
    "    \n",
    "    k2  = state_fun(tmp)\n",
    "    tmp = x + 0.5*dt*(math.sqrt(2)-1)*k1 + dt*(1-(1/math.sqrt(2)))*k2\n",
    "    \n",
    "    k3  = state_fun(tmp)\n",
    "    tmp = x - 0.5*dt*math.sqrt(2)*k2 + dt*(1+(1/math.sqrt(2)))*k3\n",
    "    \n",
    "    k4  = state_fun(tmp)\n",
    "    state_next = x + dt*(k1+(2-math.sqrt(2))*k2+(2+math.sqrt(2))*k3+k4)/6\n",
    "    return state_next"
   ]
  },
  {
   "cell_type": "code",
   "execution_count": 7,
   "metadata": {},
   "outputs": [],
   "source": [
    "def simulate(x0,t0,tf,dt):\n",
    "    print(\"Simulation Start!\")\n",
    "    x = x0\n",
    "    t_vec = np.arange(t0,tf,dt)\n",
    "    xpos = np.zeros(t_vec.size)\n",
    "    uvel = np.zeros(t_vec.size)\n",
    "    idx = 0\n",
    "    for i in t_vec:\n",
    "#         state_next = euler(x,dt)\n",
    "        state_next = RKGill(x,dt)\n",
    "        x = state_next\n",
    "        xpos[idx] = x[0]\n",
    "        uvel[idx] = x[1]\n",
    "        idx += 1\n",
    "    print(\"Simulation Finished!\")\n",
    "    plot(t_vec,xpos,uvel)"
   ]
  },
  {
   "cell_type": "code",
   "execution_count": 8,
   "metadata": {},
   "outputs": [],
   "source": [
    "# Plot\n",
    "def plot(t_vec,xpos,uvel):\n",
    "    fig, ax1 = plt.subplots()\n",
    "    ax1.plot(t_vec, xpos)\n",
    "    ax1.set(xlabel='time (s)', ylabel='X (m)',\n",
    "           title='Timeseries of X Position')\n",
    "    ax1.grid()\n",
    "    \n",
    "    fig, ax2 = plt.subplots()\n",
    "    ax2.plot(t_vec, uvel)\n",
    "    ax2.set(xlabel='time (s)', ylabel='u (m/s)',\n",
    "            title='Timeseries of Surge Velocity')\n",
    "    ax2.grid()\n",
    "    fig.savefig(\"test.png\")\n",
    "    plt.show()"
   ]
  },
  {
   "cell_type": "code",
   "execution_count": 9,
   "metadata": {},
   "outputs": [
    {
     "name": "stdout",
     "output_type": "stream",
     "text": [
      "Simulation Start!\n",
      "Simulation Finished!\n"
     ]
    },
    {
     "data": {
      "image/png": "[encoded data removed]",
      "text/plain": [
       "<Figure size 432x288 with 1 Axes>"
      ]
     },
     "metadata": {
      "needs_background": "light"
     },
     "output_type": "display_data"
    },
    {
     "data": {
      "image/png": "[encoded data removed]",
      "text/plain": [
       "<Figure size 432x288 with 1 Axes>"
      ]
     },
     "metadata": {
      "needs_background": "light"
     },
     "output_type": "display_data"
    },
    {
     "name": "stdout",
     "output_type": "stream",
     "text": [
      "cpuTime: 86.88 sec\n"
     ]
    }
   ],
   "source": [
    "# Initial Conditions\n",
    "uvel0 = 1\n",
    "xpos0 = 0\n",
    "x0 = np.array([xpos0, uvel0])\n",
    "\n",
    "# Simulate\n",
    "t_start = time.time()\n",
    "simulate(x0,0,3600,0.001)\n",
    "t_end   = time.time()\n",
    "cpuTime = round(t_end - t_start,2)\n",
    "print(\"cpuTime:\",cpuTime, \"sec\")"
   ]
  },
  {
   "cell_type": "code",
   "execution_count": 10,
   "metadata": {},
   "outputs": [
    {
     "name": "stdout",
     "output_type": "stream",
     "text": [
      "cpuTime:  86.88 sec\n"
     ]
    }
   ],
   "source": [
    "cpuTime = round(t_end - t_start,2)\n",
    "print(\"cpuTime: \",cpuTime, \"sec\")"
   ]
  },
  {
   "cell_type": "code",
   "execution_count": null,
   "metadata": {},
   "outputs": [],
   "source": []
  }
 ],
 "metadata": {
  "kernelspec": {
   "display_name": "Python 3",
   "language": "python",
   "name": "python3"
  },
  "language_info": {
   "codemirror_mode": {
    "name": "ipython",
    "version": 3
   },
   "file_extension": ".py",
   "mimetype": "text/x-python",
   "name": "python",
   "nbconvert_exporter": "python",
   "pygments_lexer": "ipython3",
   "version": "3.7.4"
  },
  "varInspector": {
   "cols": {
    "lenName": 16,
    "lenType": 16,
    "lenVar": 40
   },
   "kernels_config": {
    "python": {
     "delete_cmd_postfix": "",
     "delete_cmd_prefix": "del ",
     "library": "var_list.py",
     "varRefreshCmd": "print(var_dic_list())"
    },
    "r": {
     "delete_cmd_postfix": ") ",
     "delete_cmd_prefix": "rm(",
     "library": "var_list.r",
     "varRefreshCmd": "cat(var_dic_list()) "
    }
   },
   "position": {
    "height": "499.222px",
    "left": "1353.44px",
    "right": "20px",
    "top": "120px",
    "width": "329.208px"
   },
   "types_to_exclude": [
    "module",
    "function",
    "builtin_function_or_method",
    "instance",
    "_Feature"
   ],
   "window_display": true
  }
 },
 "nbformat": 4,
 "nbformat_minor": 2
}
